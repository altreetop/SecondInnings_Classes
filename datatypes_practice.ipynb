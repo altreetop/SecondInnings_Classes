{
  "nbformat": 4,
  "nbformat_minor": 0,
  "metadata": {
    "colab": {
      "name": "datatypes-practice.ipynb",
      "provenance": [],
      "authorship_tag": "ABX9TyO60h7AFqyc5Yx2ZO903rgt",
      "include_colab_link": true
    },
    "kernelspec": {
      "name": "python3",
      "display_name": "Python 3"
    }
  },
  "cells": [
    {
      "cell_type": "markdown",
      "metadata": {
        "id": "view-in-github",
        "colab_type": "text"
      },
      "source": [
        "<a href=\"https://colab.research.google.com/github/altreetop/SecondInnings_Classes/blob/main/datatypes_practice.ipynb\" target=\"_parent\"><img src=\"https://colab.research.google.com/assets/colab-badge.svg\" alt=\"Open In Colab\"/></a>"
      ]
    },
    {
      "cell_type": "code",
      "metadata": {
        "colab": {
          "base_uri": "https://localhost:8080/"
        },
        "id": "PwtooKkuDbLI",
        "outputId": "a2eade22-e4f4-4f26-e16f-89d1cfc23421"
      },
      "source": [
        "a = '''derp derp derp,\r\n",
        "some more words,\r\n",
        "another line of words\r\n",
        "and the last line of words.'''\r\n",
        "print(a)"
      ],
      "execution_count": 1,
      "outputs": [
        {
          "output_type": "stream",
          "text": [
            "derp derp derp,\n",
            "some more words,\n",
            "another line of words\n",
            "and the last line of words.\n"
          ],
          "name": "stdout"
        }
      ]
    }
  ]
}