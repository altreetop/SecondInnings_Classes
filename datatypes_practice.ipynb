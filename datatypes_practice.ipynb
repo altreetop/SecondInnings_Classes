{
  "nbformat": 4,
  "nbformat_minor": 0,
  "metadata": {
    "colab": {
      "name": "datatypes-practice.ipynb",
      "provenance": [],
      "authorship_tag": "ABX9TyPzCD68oGolrtkH64YRHbmW",
      "include_colab_link": true
    },
    "kernelspec": {
      "name": "python3",
      "display_name": "Python 3"
    }
  },
  "cells": [
    {
      "cell_type": "markdown",
      "metadata": {
        "id": "view-in-github",
        "colab_type": "text"
      },
      "source": [
        "<a href=\"https://colab.research.google.com/github/altreetop/SecondInnings_Classes/blob/main/datatypes_practice.ipynb\" target=\"_parent\"><img src=\"https://colab.research.google.com/assets/colab-badge.svg\" alt=\"Open In Colab\"/></a>"
      ]
    },
    {
      "cell_type": "code",
      "metadata": {
        "colab": {
          "base_uri": "https://localhost:8080/"
        },
        "id": "PwtooKkuDbLI",
        "outputId": "a2eade22-e4f4-4f26-e16f-89d1cfc23421"
      },
      "source": [
        "a = '''derp derp derp,\r\n",
        "some more words,\r\n",
        "another line of words\r\n",
        "and the last line of words.'''\r\n",
        "print(a)"
      ],
      "execution_count": 1,
      "outputs": [
        {
          "output_type": "stream",
          "text": [
            "derp derp derp,\n",
            "some more words,\n",
            "another line of words\n",
            "and the last line of words.\n"
          ],
          "name": "stdout"
        }
      ]
    },
    {
      "cell_type": "code",
      "metadata": {
        "colab": {
          "base_uri": "https://localhost:8080/"
        },
        "id": "6GW-7VhQF7HF",
        "outputId": "f03f8aaa-8309-42f3-deb7-477170e8d5de"
      },
      "source": [
        "a = \"僕はコーヒーを飲みます\"\r\n",
        "print(a[1])"
      ],
      "execution_count": 2,
      "outputs": [
        {
          "output_type": "stream",
          "text": [
            "は\n"
          ],
          "name": "stdout"
        }
      ]
    },
    {
      "cell_type": "code",
      "metadata": {
        "colab": {
          "base_uri": "https://localhost:8080/"
        },
        "id": "rOIshfNlGdhM",
        "outputId": "6d210a16-1453-4252-8799-acdb4f693221"
      },
      "source": [
        "for x in \"banana\":\r\n",
        "  print(x)"
      ],
      "execution_count": 5,
      "outputs": [
        {
          "output_type": "stream",
          "text": [
            "b\n",
            "a\n",
            "n\n",
            "a\n",
            "n\n",
            "a\n"
          ],
          "name": "stdout"
        }
      ]
    },
    {
      "cell_type": "code",
      "metadata": {
        "colab": {
          "base_uri": "https://localhost:8080/"
        },
        "id": "3TeEfzMJG5p1",
        "outputId": "3e878ccb-51af-442b-c58f-c26b731c9b79"
      },
      "source": [
        "# the len() function returns the length of a string:\r\n",
        "a = \"コーヒーを飲みます\"\r\n",
        "print(len(a))"
      ],
      "execution_count": 6,
      "outputs": [
        {
          "output_type": "stream",
          "text": [
            "9\n"
          ],
          "name": "stdout"
        }
      ]
    },
    {
      "cell_type": "code",
      "metadata": {
        "colab": {
          "base_uri": "https://localhost:8080/"
        },
        "id": "9DKf40CzHH9T",
        "outputId": "37ea96d1-5b59-451f-8b6d-9188bd28d9f4"
      },
      "source": [
        "# Check String\r\n",
        "# To check if a certain phrase or character is present in a string, we can use the keyword in.\r\n",
        "txt = \"The best things in life are memories!\"\r\n",
        "print(\"free\" in txt)\r\n",
        "print(\"memories\" in txt)"
      ],
      "execution_count": 9,
      "outputs": [
        {
          "output_type": "stream",
          "text": [
            "False\n",
            "True\n"
          ],
          "name": "stdout"
        }
      ]
    },
    {
      "cell_type": "code",
      "metadata": {
        "colab": {
          "base_uri": "https://localhost:8080/"
        },
        "id": "iAHhtJ9jHt9V",
        "outputId": "2c695f16-c17a-47b0-c46f-d7b873656fb3"
      },
      "source": [
        "txt = \"The best things in life are free!\"\r\n",
        "if \"free\" in txt:\r\n",
        "  print(\"Yes, 'free' is present.\")\r\n",
        "else: \r\n",
        "  print(\"No, 'free' is not present.\")"
      ],
      "execution_count": 14,
      "outputs": [
        {
          "output_type": "stream",
          "text": [
            "Yes, 'free' is present.\n"
          ],
          "name": "stdout"
        }
      ]
    },
    {
      "cell_type": "code",
      "metadata": {
        "colab": {
          "base_uri": "https://localhost:8080/"
        },
        "id": "xvBodDzJIPEI",
        "outputId": "73fb480f-2e2a-4a6e-e675-2dad1c7ef774"
      },
      "source": [
        "#To check if a certain phrase or character is NOT present in a string, we can use the keyword not in.\r\n",
        "txt = \"The best things in life are free!\"\r\n",
        "print(\"expensive\" not in txt)"
      ],
      "execution_count": 15,
      "outputs": [
        {
          "output_type": "stream",
          "text": [
            "True\n"
          ],
          "name": "stdout"
        }
      ]
    },
    {
      "cell_type": "code",
      "metadata": {
        "colab": {
          "base_uri": "https://localhost:8080/"
        },
        "id": "4nzMOOuGIspb",
        "outputId": "fa141c7f-1c7f-408a-ebb0-9d6dd155998b"
      },
      "source": [
        "txt = \"The best things in life are free!\"\r\n",
        "if \"expensive\" not in txt:\r\n",
        "  print(\"Yes, 'expensive' is NOT present.\")"
      ],
      "execution_count": 16,
      "outputs": [
        {
          "output_type": "stream",
          "text": [
            "Yes, 'expensive' is NOT present.\n"
          ],
          "name": "stdout"
        }
      ]
    },
    {
      "cell_type": "code",
      "metadata": {
        "id": "p6zMdiR-JYEf"
      },
      "source": [
        ""
      ],
      "execution_count": null,
      "outputs": []
    }
  ]
}