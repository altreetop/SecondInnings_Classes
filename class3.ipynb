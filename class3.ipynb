{
  "nbformat": 4,
  "nbformat_minor": 0,
  "metadata": {
    "colab": {
      "name": "class3.ipynb",
      "provenance": [],
      "collapsed_sections": [],
      "authorship_tag": "ABX9TyPng/XWhlGX2d/htX0E9/Oe",
      "include_colab_link": true
    },
    "kernelspec": {
      "name": "python3",
      "display_name": "Python 3"
    }
  },
  "cells": [
    {
      "cell_type": "markdown",
      "metadata": {
        "id": "view-in-github",
        "colab_type": "text"
      },
      "source": [
        "<a href=\"https://colab.research.google.com/github/altreetop/SecondInnings_Classes/blob/main/class3.ipynb\" target=\"_parent\"><img src=\"https://colab.research.google.com/assets/colab-badge.svg\" alt=\"Open In Colab\"/></a>"
      ]
    },
    {
      "cell_type": "code",
      "metadata": {
        "colab": {
          "base_uri": "https://localhost:8080/"
        },
        "id": "DgTfyWmEi3wb",
        "outputId": "c4755cdc-b01e-467d-a022-76f8c3b9cbaf"
      },
      "source": [
        "# class 3 notebook\r\n",
        "x =20.5\r\n",
        "print(type(x)) #tells you what type of variable you have"
      ],
      "execution_count": 1,
      "outputs": [
        {
          "output_type": "stream",
          "text": [
            "<class 'float'>\n"
          ],
          "name": "stdout"
        }
      ]
    },
    {
      "cell_type": "code",
      "metadata": {
        "colab": {
          "base_uri": "https://localhost:8080/"
        },
        "id": "yuqxZOmrjHvv",
        "outputId": "14d68763-a953-40f0-dbbb-bc5e3707b6bf"
      },
      "source": [
        "import keyword\r\n",
        "print(keyword.kwlist)  # lists your keywords that cannot be assigned as variables\r\n"
      ],
      "execution_count": 2,
      "outputs": [
        {
          "output_type": "stream",
          "text": [
            "['False', 'None', 'True', 'and', 'as', 'assert', 'break', 'class', 'continue', 'def', 'del', 'elif', 'else', 'except', 'finally', 'for', 'from', 'global', 'if', 'import', 'in', 'is', 'lambda', 'nonlocal', 'not', 'or', 'pass', 'raise', 'return', 'try', 'while', 'with', 'yield']\n"
          ],
          "name": "stdout"
        }
      ]
    },
    {
      "cell_type": "code",
      "metadata": {
        "colab": {
          "base_uri": "https://localhost:8080/"
        },
        "id": "t8nIw9xijZ78",
        "outputId": "c43806d9-6a47-4414-a6ae-844692e4e1dd"
      },
      "source": [
        "x = \"34\"        # assigns string data type !note cannot assign integer to character string!\r\n",
        "print(type(x))\r\n",
        "x = int(x)      #change data type to integer \r\n",
        "print(type(x))\r\n",
        "print(x)\r\n"
      ],
      "execution_count": 7,
      "outputs": [
        {
          "output_type": "stream",
          "text": [
            "<class 'str'>\n",
            "<class 'int'>\n",
            "34\n"
          ],
          "name": "stdout"
        }
      ]
    },
    {
      "cell_type": "code",
      "metadata": {
        "colab": {
          "base_uri": "https://localhost:8080/"
        },
        "id": "poz7ouP7mm6F",
        "outputId": "65862a6d-ad65-4e14-a14f-77f1c7fe0505"
      },
      "source": [
        "fname = 'king'\r\n",
        "sname = 'kong'\r\n",
        "print(fname+sname)    # the concatenation of s + t"
      ],
      "execution_count": 8,
      "outputs": [
        {
          "output_type": "stream",
          "text": [
            "kingkong\n"
          ],
          "name": "stdout"
        }
      ]
    },
    {
      "cell_type": "code",
      "metadata": {
        "colab": {
          "base_uri": "https://localhost:8080/"
        },
        "id": "Jd2nk2ydnb8w",
        "outputId": "6d92425d-05b9-49d0-89ab-ac303ea4832f"
      },
      "source": [
        "fname = 'king'\r\n",
        "sname = str(1)   # both types must be strings, cant mix int and str\r\n",
        "print(fname+sname)    # the concatenation of s + t"
      ],
      "execution_count": 11,
      "outputs": [
        {
          "output_type": "stream",
          "text": [
            "king1\n"
          ],
          "name": "stdout"
        }
      ]
    },
    {
      "cell_type": "code",
      "metadata": {
        "colab": {
          "base_uri": "https://localhost:8080/"
        },
        "id": "LDTr1Dgenpve",
        "outputId": "14b7719c-a823-4c83-9829-dc9c44eb2e86"
      },
      "source": [
        "x = \"hannah\"    # x has been assigned the var \"hannah\"\r\n",
        "y = \"\"          # empty string assigned\r\n",
        "\r\n",
        "for char in x:    # takes each element of x \r\n",
        "  y = char + y    # append char to y\r\n",
        "  print(y)\r\n",
        "print(y)\r\n",
        "\r\n",
        "if x == y:\r\n",
        "  print(\"this is a palindrome\")\r\n",
        "else:\r\n",
        "  print(\"no luck try again\")"
      ],
      "execution_count": 17,
      "outputs": [
        {
          "output_type": "stream",
          "text": [
            "h\n",
            "ah\n",
            "nah\n",
            "nnah\n",
            "annah\n",
            "hannah\n",
            "hannah\n",
            "this is a palindrome\n"
          ],
          "name": "stdout"
        }
      ]
    },
    {
      "cell_type": "code",
      "metadata": {
        "colab": {
          "base_uri": "https://localhost:8080/"
        },
        "id": "-g5Ws3_JpY15",
        "outputId": "fad59d4a-d930-44ff-8973-1469a3b8af77"
      },
      "source": [
        "## This is a simple program to check for Palindromes    ##\r\n",
        "x = \"abcd\"    # x has been assigned the var \"hannah\"\r\n",
        "y = \"\"          # empty string assigned\r\n",
        "\r\n",
        "for char in x:    # takes each element of x \r\n",
        "  print(char)\r\n",
        "  y = char + y    # append char to y\r\n",
        "  print(y)\r\n",
        "print(y)\r\n",
        "\r\n",
        "if x == y:\r\n",
        "  print(\"this is a palindrome\")\r\n",
        "else:\r\n",
        "  print(\"no luck try again\")"
      ],
      "execution_count": 19,
      "outputs": [
        {
          "output_type": "stream",
          "text": [
            "a\n",
            "a\n",
            "b\n",
            "ba\n",
            "c\n",
            "cba\n",
            "d\n",
            "dcba\n",
            "dcba\n",
            "no luck try again\n"
          ],
          "name": "stdout"
        }
      ]
    },
    {
      "cell_type": "code",
      "metadata": {
        "colab": {
          "base_uri": "https://localhost:8080/"
        },
        "id": "pPsoPzkzqrld",
        "outputId": "9e640a89-052b-4476-dc0f-492e44f1a1b0"
      },
      "source": [
        "list_example = [\"apple\",\"banana\",\"'mango\",\"人参\"]\r\n",
        "print(list_example)\r\n",
        "list_example.append(\"grapes\")\r\n",
        "print(list_example)\r\n",
        "list_example.append(\"grapes\")\r\n",
        "print(list_example)\r\n",
        "list_example.remove(\"grapes\")\r\n",
        "print(list_example)\r\n",
        "\r\n",
        "print(list_example[3])      # lists the 3th element of the list\r\n",
        "print(list_example[4])      # lists the 4th element of the list\r\n",
        "\r\n",
        "list_example.append(1)      # appends the list with an integer\r\n"
      ],
      "execution_count": 30,
      "outputs": [
        {
          "output_type": "stream",
          "text": [
            "['apple', 'banana', \"'mango\", '人参']\n",
            "['apple', 'banana', \"'mango\", '人参', 'grapes']\n",
            "['apple', 'banana', \"'mango\", '人参', 'grapes', 'grapes']\n",
            "['apple', 'banana', \"'mango\", '人参', 'grapes']\n",
            "人参\n",
            "grapes\n"
          ],
          "name": "stdout"
        }
      ]
    },
    {
      "cell_type": "code",
      "metadata": {
        "colab": {
          "base_uri": "https://localhost:8080/"
        },
        "id": "lH7Ekny2sIEv",
        "outputId": "934ba055-3d51-4e35-8d07-0aeca634353a"
      },
      "source": [
        "dict_ex ={\"Name\":\"King\",\"Age\":\"144\",\"Class\":\"Python\"}\r\n",
        "print(type(dict_ex))\r\n",
        "print(dict_ex['Age'])       # calling a specific index\r\n",
        "dict_ex['Size']='Medium'    # Adding to the dictionary\r\n",
        "print(dict_ex)\r\n",
        "\r\n",
        "dict_ex.pop('Size')        # Removes the Size key value pair\r\n",
        "print(dict_ex)\r\n",
        "\r\n",
        "dict_ex['Name']='Kong'     # changes value for name\r\n",
        "print(dict_ex)\r\n"
      ],
      "execution_count": 39,
      "outputs": [
        {
          "output_type": "stream",
          "text": [
            "<class 'dict'>\n",
            "144\n",
            "{'Name': 'King', 'Age': '144', 'Class': 'Python', 'Size': 'Medium'}\n",
            "{'Name': 'King', 'Age': '144', 'Class': 'Python'}\n",
            "{'Name': 'Kong', 'Age': '144', 'Class': 'Python'}\n"
          ],
          "name": "stdout"
        }
      ]
    },
    {
      "cell_type": "code",
      "metadata": {
        "colab": {
          "base_uri": "https://localhost:8080/"
        },
        "id": "Si-Ml_nktPC_",
        "outputId": "14381137-ffde-402f-a0c0-95fc5fb2ec53"
      },
      "source": [
        "## tuple example\r\n",
        "tuple_ex=('king','kong',222,333)\r\n",
        "print(type(tuple_ex))\r\n",
        "print(tuple_ex)\r\n",
        "\r\n",
        "print(tuple_ex[2])"
      ],
      "execution_count": 42,
      "outputs": [
        {
          "output_type": "stream",
          "text": [
            "<class 'tuple'>\n",
            "('king', 'kong', 222, 333)\n",
            "222\n"
          ],
          "name": "stdout"
        }
      ]
    },
    {
      "cell_type": "code",
      "metadata": {
        "colab": {
          "base_uri": "https://localhost:8080/"
        },
        "id": "UmiEvi-Rtl0c",
        "outputId": "5a33a688-4be4-4cdb-a4e2-576603d84ae3"
      },
      "source": [
        "## set example\r\n",
        "set_ex ={\"リンゴ\",\"banana\",\"桜ん坊\"}\r\n",
        "set_ex.add(\"grapes\")\r\n",
        "set_ex.add(\"apricot\")  #erroneous, can only have one grapes entry\r\n",
        "\r\n",
        "set_ex.remove(\"grapes\")\r\n",
        "\r\n",
        "print(set_ex)\r\n",
        "\r\n",
        "#print(set_ex[0])    # don't do this, set is unordered and not indexed"
      ],
      "execution_count": 52,
      "outputs": [
        {
          "output_type": "stream",
          "text": [
            "{'リンゴ', '桜ん坊', 'apricot', 'banana'}\n"
          ],
          "name": "stdout"
        }
      ]
    }
  ]
}