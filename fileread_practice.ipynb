{
  "nbformat": 4,
  "nbformat_minor": 0,
  "metadata": {
    "colab": {
      "name": "fileread-practice.ipynb",
      "provenance": [],
      "authorship_tag": "ABX9TyM/NIbTamY78DgRde63m4Tk",
      "include_colab_link": true
    },
    "kernelspec": {
      "name": "python3",
      "display_name": "Python 3"
    }
  },
  "cells": [
    {
      "cell_type": "markdown",
      "metadata": {
        "id": "view-in-github",
        "colab_type": "text"
      },
      "source": [
        "<a href=\"https://colab.research.google.com/github/altreetop/SecondInnings_Classes/blob/main/fileread_practice.ipynb\" target=\"_parent\"><img src=\"https://colab.research.google.com/assets/colab-badge.svg\" alt=\"Open In Colab\"/></a>"
      ]
    },
    {
      "cell_type": "code",
      "metadata": {
        "id": "3X2RMeKzJtj0"
      },
      "source": [
        "%%writefile txtfile.txt\r\n",
        "new file\r\n",
        "second line"
      ],
      "execution_count": null,
      "outputs": []
    }
  ]
}