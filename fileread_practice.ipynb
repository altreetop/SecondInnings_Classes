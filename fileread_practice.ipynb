{
  "nbformat": 4,
  "nbformat_minor": 0,
  "metadata": {
    "colab": {
      "name": "fileread-practice.ipynb",
      "provenance": [],
      "authorship_tag": "ABX9TyMjvjWkl4OdWRZV7gQ54tkd",
      "include_colab_link": true
    },
    "kernelspec": {
      "name": "python3",
      "display_name": "Python 3"
    }
  },
  "cells": [
    {
      "cell_type": "markdown",
      "metadata": {
        "id": "view-in-github",
        "colab_type": "text"
      },
      "source": [
        "<a href=\"https://colab.research.google.com/github/altreetop/SecondInnings_Classes/blob/main/fileread_practice.ipynb\" target=\"_parent\"><img src=\"https://colab.research.google.com/assets/colab-badge.svg\" alt=\"Open In Colab\"/></a>"
      ]
    },
    {
      "cell_type": "code",
      "metadata": {
        "colab": {
          "base_uri": "https://localhost:8080/"
        },
        "id": "3X2RMeKzJtj0",
        "outputId": "f7197101-0049-4908-81c1-6e65a89d3e87"
      },
      "source": [
        "%%writefile txtfile.txt\r\n",
        "new file\r\n",
        "second line\r\n",
        "third line"
      ],
      "execution_count": 1,
      "outputs": [
        {
          "output_type": "stream",
          "text": [
            "Writing txtfile.txt\n"
          ],
          "name": "stdout"
        }
      ]
    },
    {
      "cell_type": "code",
      "metadata": {
        "colab": {
          "base_uri": "https://localhost:8080/"
        },
        "id": "2YQRG7h_MEJw",
        "outputId": "0df0207e-272c-4f70-cfa2-122ece404d4d"
      },
      "source": [
        "with open(\"txtfile.txt\",'r') as f: #gave the name as 'f' it is a handle for the file, note next line has to start with a tab\r\n",
        "  print(f.read())"
      ],
      "execution_count": 2,
      "outputs": [
        {
          "output_type": "stream",
          "text": [
            "new file\n",
            "second line\n",
            "third line\n"
          ],
          "name": "stdout"
        }
      ]
    }
  ]
}